{
 "cells": [
  {
   "cell_type": "markdown",
   "metadata": {},
   "source": [
    "### Se trata de explorar con estos datos las tecnicas de clasificacion mediante un Arbol de Decision"
   ]
  },
  {
   "cell_type": "code",
   "execution_count": 1,
   "metadata": {
    "id": "HfAfh25Vj8b6"
   },
   "outputs": [],
   "source": [
    "import numpy as np\n",
    "import pandas as pd\n",
    "import matplotlib.pyplot as plt\n",
    "from sklearn.datasets import load_breast_cancer\n",
    "from sklearn.model_selection import train_test_split\n",
    "from sklearn.metrics import accuracy_score, classification_report, confusion_matrix\n",
    "from sklearn.preprocessing import LabelEncoder, StandardScaler\n",
    "# Load the Breast Cancer dataset\n"
   ]
  },
  {
   "cell_type": "markdown",
   "metadata": {},
   "source": [
    "### Select the dataset"
   ]
  },
  {
   "cell_type": "code",
   "execution_count": 14,
   "metadata": {},
   "outputs": [],
   "source": [
    "import kagglehub\n",
    "import os"
   ]
  },
  {
   "cell_type": "code",
   "execution_count": 11,
   "metadata": {},
   "outputs": [
    {
     "name": "stdout",
     "output_type": "stream",
     "text": [
      "Download already complete (36014 bytes).\n",
      "Path to dataset files: /home/oscar/.cache/kagglehub/datasets/stealthtechnologies/predict-student-performance-dataset/versions/1/data.csv\n"
     ]
    }
   ],
   "source": [
    "# Download latest version\n",
    "# To check the Kaggle Databases Guide check the page: https://www.kaggle.com/datasets \n",
    "#path = kagglehub.dataset_download(\"infamouscoder/dataset-netflix-shows\")\n",
    "#path=kagglehub.dataset_download('bricevergnou/spotify-recommendation')\n",
    "path=kagglehub.dataset_download(\"stealthtechnologies/predict-student-performance-dataset\", path='data.csv')\n",
    "print(\"Path to dataset files:\", path)"
   ]
  },
  {
   "cell_type": "code",
   "execution_count": 15,
   "metadata": {},
   "outputs": [],
   "source": [
    "data =  pd.read_csv(path)"
   ]
  },
  {
   "cell_type": "code",
   "execution_count": 17,
   "metadata": {},
   "outputs": [
    {
     "data": {
      "text/html": [
       "<div>\n",
       "<style scoped>\n",
       "    .dataframe tbody tr th:only-of-type {\n",
       "        vertical-align: middle;\n",
       "    }\n",
       "\n",
       "    .dataframe tbody tr th {\n",
       "        vertical-align: top;\n",
       "    }\n",
       "\n",
       "    .dataframe thead th {\n",
       "        text-align: right;\n",
       "    }\n",
       "</style>\n",
       "<table border=\"1\" class=\"dataframe\">\n",
       "  <thead>\n",
       "    <tr style=\"text-align: right;\">\n",
       "      <th></th>\n",
       "      <th>Socioeconomic Score</th>\n",
       "      <th>Study Hours</th>\n",
       "      <th>Sleep Hours</th>\n",
       "      <th>Attendance (%)</th>\n",
       "      <th>Grades</th>\n",
       "    </tr>\n",
       "  </thead>\n",
       "  <tbody>\n",
       "    <tr>\n",
       "      <th>0</th>\n",
       "      <td>0.95822</td>\n",
       "      <td>3.4</td>\n",
       "      <td>8.2</td>\n",
       "      <td>53.0</td>\n",
       "      <td>47.0</td>\n",
       "    </tr>\n",
       "    <tr>\n",
       "      <th>1</th>\n",
       "      <td>0.85566</td>\n",
       "      <td>3.2</td>\n",
       "      <td>5.9</td>\n",
       "      <td>55.0</td>\n",
       "      <td>35.0</td>\n",
       "    </tr>\n",
       "    <tr>\n",
       "      <th>2</th>\n",
       "      <td>0.68025</td>\n",
       "      <td>3.2</td>\n",
       "      <td>9.3</td>\n",
       "      <td>41.0</td>\n",
       "      <td>32.0</td>\n",
       "    </tr>\n",
       "    <tr>\n",
       "      <th>3</th>\n",
       "      <td>0.25936</td>\n",
       "      <td>3.2</td>\n",
       "      <td>8.2</td>\n",
       "      <td>47.0</td>\n",
       "      <td>34.0</td>\n",
       "    </tr>\n",
       "    <tr>\n",
       "      <th>4</th>\n",
       "      <td>0.60447</td>\n",
       "      <td>3.8</td>\n",
       "      <td>10.0</td>\n",
       "      <td>75.0</td>\n",
       "      <td>33.0</td>\n",
       "    </tr>\n",
       "  </tbody>\n",
       "</table>\n",
       "</div>"
      ],
      "text/plain": [
       "   Socioeconomic Score  Study Hours  Sleep Hours  Attendance (%)  Grades\n",
       "0              0.95822          3.4          8.2            53.0    47.0\n",
       "1              0.85566          3.2          5.9            55.0    35.0\n",
       "2              0.68025          3.2          9.3            41.0    32.0\n",
       "3              0.25936          3.2          8.2            47.0    34.0\n",
       "4              0.60447          3.8         10.0            75.0    33.0"
      ]
     },
     "execution_count": 17,
     "metadata": {},
     "output_type": "execute_result"
    }
   ],
   "source": [
    "data.head()"
   ]
  },
  {
   "cell_type": "code",
   "execution_count": 19,
   "metadata": {},
   "outputs": [],
   "source": [
    "y = data['class']  # Columna 'class' como variable objetivo\n",
    "X = data.drop('class', axis=1)  # Eliminar la columna 'class' del resto de los datos"
   ]
  },
  {
   "cell_type": "code",
   "execution_count": 21,
   "metadata": {},
   "outputs": [],
   "source": [
    "# Al final si fue necesario necesario representar numericamente los valores categoricos\n",
    "encoder = LabelEncoder()\n",
    "# Codificar todas las columnas categóricas en features\n",
    "X = X.apply(encoder.fit_transform)"
   ]
  },
  {
   "cell_type": "code",
   "execution_count": 22,
   "metadata": {},
   "outputs": [
    {
     "data": {
      "text/html": [
       "<div>\n",
       "<style scoped>\n",
       "    .dataframe tbody tr th:only-of-type {\n",
       "        vertical-align: middle;\n",
       "    }\n",
       "\n",
       "    .dataframe tbody tr th {\n",
       "        vertical-align: top;\n",
       "    }\n",
       "\n",
       "    .dataframe thead th {\n",
       "        text-align: right;\n",
       "    }\n",
       "</style>\n",
       "<table border=\"1\" class=\"dataframe\">\n",
       "  <thead>\n",
       "    <tr style=\"text-align: right;\">\n",
       "      <th></th>\n",
       "      <th>cap-shape</th>\n",
       "      <th>cap-surface</th>\n",
       "      <th>cap-color</th>\n",
       "      <th>bruises</th>\n",
       "      <th>odor</th>\n",
       "      <th>gill-attachment</th>\n",
       "      <th>gill-spacing</th>\n",
       "      <th>gill-size</th>\n",
       "      <th>gill-color</th>\n",
       "      <th>stalk-shape</th>\n",
       "      <th>...</th>\n",
       "      <th>stalk-surface-below-ring</th>\n",
       "      <th>stalk-color-above-ring</th>\n",
       "      <th>stalk-color-below-ring</th>\n",
       "      <th>veil-type</th>\n",
       "      <th>veil-color</th>\n",
       "      <th>ring-number</th>\n",
       "      <th>ring-type</th>\n",
       "      <th>spore-print-color</th>\n",
       "      <th>population</th>\n",
       "      <th>habitat</th>\n",
       "    </tr>\n",
       "  </thead>\n",
       "  <tbody>\n",
       "    <tr>\n",
       "      <th>0</th>\n",
       "      <td>5</td>\n",
       "      <td>2</td>\n",
       "      <td>4</td>\n",
       "      <td>1</td>\n",
       "      <td>6</td>\n",
       "      <td>1</td>\n",
       "      <td>0</td>\n",
       "      <td>1</td>\n",
       "      <td>4</td>\n",
       "      <td>0</td>\n",
       "      <td>...</td>\n",
       "      <td>2</td>\n",
       "      <td>7</td>\n",
       "      <td>7</td>\n",
       "      <td>0</td>\n",
       "      <td>2</td>\n",
       "      <td>1</td>\n",
       "      <td>4</td>\n",
       "      <td>2</td>\n",
       "      <td>3</td>\n",
       "      <td>5</td>\n",
       "    </tr>\n",
       "    <tr>\n",
       "      <th>1</th>\n",
       "      <td>5</td>\n",
       "      <td>2</td>\n",
       "      <td>9</td>\n",
       "      <td>1</td>\n",
       "      <td>0</td>\n",
       "      <td>1</td>\n",
       "      <td>0</td>\n",
       "      <td>0</td>\n",
       "      <td>4</td>\n",
       "      <td>0</td>\n",
       "      <td>...</td>\n",
       "      <td>2</td>\n",
       "      <td>7</td>\n",
       "      <td>7</td>\n",
       "      <td>0</td>\n",
       "      <td>2</td>\n",
       "      <td>1</td>\n",
       "      <td>4</td>\n",
       "      <td>3</td>\n",
       "      <td>2</td>\n",
       "      <td>1</td>\n",
       "    </tr>\n",
       "    <tr>\n",
       "      <th>2</th>\n",
       "      <td>0</td>\n",
       "      <td>2</td>\n",
       "      <td>8</td>\n",
       "      <td>1</td>\n",
       "      <td>3</td>\n",
       "      <td>1</td>\n",
       "      <td>0</td>\n",
       "      <td>0</td>\n",
       "      <td>5</td>\n",
       "      <td>0</td>\n",
       "      <td>...</td>\n",
       "      <td>2</td>\n",
       "      <td>7</td>\n",
       "      <td>7</td>\n",
       "      <td>0</td>\n",
       "      <td>2</td>\n",
       "      <td>1</td>\n",
       "      <td>4</td>\n",
       "      <td>3</td>\n",
       "      <td>2</td>\n",
       "      <td>3</td>\n",
       "    </tr>\n",
       "    <tr>\n",
       "      <th>3</th>\n",
       "      <td>5</td>\n",
       "      <td>3</td>\n",
       "      <td>8</td>\n",
       "      <td>1</td>\n",
       "      <td>6</td>\n",
       "      <td>1</td>\n",
       "      <td>0</td>\n",
       "      <td>1</td>\n",
       "      <td>5</td>\n",
       "      <td>0</td>\n",
       "      <td>...</td>\n",
       "      <td>2</td>\n",
       "      <td>7</td>\n",
       "      <td>7</td>\n",
       "      <td>0</td>\n",
       "      <td>2</td>\n",
       "      <td>1</td>\n",
       "      <td>4</td>\n",
       "      <td>2</td>\n",
       "      <td>3</td>\n",
       "      <td>5</td>\n",
       "    </tr>\n",
       "    <tr>\n",
       "      <th>4</th>\n",
       "      <td>5</td>\n",
       "      <td>2</td>\n",
       "      <td>3</td>\n",
       "      <td>0</td>\n",
       "      <td>5</td>\n",
       "      <td>1</td>\n",
       "      <td>1</td>\n",
       "      <td>0</td>\n",
       "      <td>4</td>\n",
       "      <td>1</td>\n",
       "      <td>...</td>\n",
       "      <td>2</td>\n",
       "      <td>7</td>\n",
       "      <td>7</td>\n",
       "      <td>0</td>\n",
       "      <td>2</td>\n",
       "      <td>1</td>\n",
       "      <td>0</td>\n",
       "      <td>3</td>\n",
       "      <td>0</td>\n",
       "      <td>1</td>\n",
       "    </tr>\n",
       "  </tbody>\n",
       "</table>\n",
       "<p>5 rows × 22 columns</p>\n",
       "</div>"
      ],
      "text/plain": [
       "   cap-shape  cap-surface  cap-color  bruises  odor  gill-attachment  \\\n",
       "0          5            2          4        1     6                1   \n",
       "1          5            2          9        1     0                1   \n",
       "2          0            2          8        1     3                1   \n",
       "3          5            3          8        1     6                1   \n",
       "4          5            2          3        0     5                1   \n",
       "\n",
       "   gill-spacing  gill-size  gill-color  stalk-shape  ...  \\\n",
       "0             0          1           4            0  ...   \n",
       "1             0          0           4            0  ...   \n",
       "2             0          0           5            0  ...   \n",
       "3             0          1           5            0  ...   \n",
       "4             1          0           4            1  ...   \n",
       "\n",
       "   stalk-surface-below-ring  stalk-color-above-ring  stalk-color-below-ring  \\\n",
       "0                         2                       7                       7   \n",
       "1                         2                       7                       7   \n",
       "2                         2                       7                       7   \n",
       "3                         2                       7                       7   \n",
       "4                         2                       7                       7   \n",
       "\n",
       "   veil-type  veil-color  ring-number  ring-type  spore-print-color  \\\n",
       "0          0           2            1          4                  2   \n",
       "1          0           2            1          4                  3   \n",
       "2          0           2            1          4                  3   \n",
       "3          0           2            1          4                  2   \n",
       "4          0           2            1          0                  3   \n",
       "\n",
       "   population  habitat  \n",
       "0           3        5  \n",
       "1           2        1  \n",
       "2           2        3  \n",
       "3           3        5  \n",
       "4           0        1  \n",
       "\n",
       "[5 rows x 22 columns]"
      ]
     },
     "execution_count": 22,
     "metadata": {},
     "output_type": "execute_result"
    }
   ],
   "source": [
    "X.head()"
   ]
  },
  {
   "cell_type": "markdown",
   "metadata": {
    "id": "v1SbIbq0kQrQ"
   },
   "source": [
    "## Split the dataset into training and testing sets."
   ]
  },
  {
   "cell_type": "code",
   "execution_count": 23,
   "metadata": {
    "id": "XmHqRa6GkRuA"
   },
   "outputs": [],
   "source": [
    "# Split the dataset into training and testing sets (80% train, 20% test)\n",
    "X_train, X_test, y_train, y_test = train_test_split(X, y, test_size=0.2, random_state=42)"
   ]
  },
  {
   "cell_type": "markdown",
   "metadata": {
    "id": "F7yzh_NFkVkw"
   },
   "source": [
    "## Create and train the Decision Tree model."
   ]
  },
  {
   "cell_type": "code",
   "execution_count": 7,
   "metadata": {},
   "outputs": [],
   "source": [
    "# Aca tampoco es necesario normalizar los datos\n",
    "#scaler = StandardScaler()\n",
    "#scaler.fit(X_train)\n",
    "#X_train = scaler.transform(X_train)\n",
    "#X_test = scaler.transform(X_test)"
   ]
  },
  {
   "cell_type": "code",
   "execution_count": 30,
   "metadata": {
    "id": "AxXEAWb6kYcv"
   },
   "outputs": [
    {
     "name": "stdout",
     "output_type": "stream",
     "text": [
      "criterion  gini\n",
      "max_depth  1\n",
      "max_depth  3\n",
      "max_depth  5\n",
      "max_depth  7\n",
      "max_depth  9\n",
      "max_depth  11\n",
      "max_depth  13\n",
      "max_depth  15\n",
      "max_depth  17\n",
      "max_depth  19\n",
      "criterion  entropy\n",
      "max_depth  1\n",
      "max_depth  3\n",
      "max_depth  5\n",
      "max_depth  7\n",
      "max_depth  9\n",
      "max_depth  11\n",
      "max_depth  13\n",
      "max_depth  15\n",
      "max_depth  17\n",
      "max_depth  19\n"
     ]
    }
   ],
   "source": [
    "from sklearn.tree import DecisionTreeClassifier\n",
    "\n",
    "# Create a list of k values for KNN\n",
    "crit = [\"gini\", \"entropy\"]#, \"log_loss\"]\n",
    "maxdepth = range(1,20,2)\n",
    "results = {}\n",
    "\n",
    "for criterion in crit:\n",
    "    print(\"criterion \", criterion)\n",
    "    for max_depth in maxdepth:\n",
    "        print(\"max_depth \",max_depth)\n",
    "        classifier = DecisionTreeClassifier(criterion=criterion, max_depth=max_depth)\n",
    "        classifier.fit(X_train, y_train)\n",
    "        y_pred = classifier.predict(X_test)\n",
    "        accuracy = accuracy_score(y_test, y_pred)\n",
    "        results[(criterion, max_depth)] = {\n",
    "            'model': classifier,\n",
    "            'accuracy': accuracy,\n",
    "        }\n"
   ]
  },
  {
   "cell_type": "code",
   "execution_count": 31,
   "metadata": {},
   "outputs": [
    {
     "data": {
      "text/plain": [
       "dict_items([(('gini', 1), {'model': DecisionTreeClassifier(max_depth=1), 'accuracy': 0.7981538461538461}), (('gini', 3), {'model': DecisionTreeClassifier(max_depth=3), 'accuracy': 0.952}), (('gini', 5), {'model': DecisionTreeClassifier(max_depth=5), 'accuracy': 0.9766153846153847}), (('gini', 7), {'model': DecisionTreeClassifier(max_depth=7), 'accuracy': 1.0}), (('gini', 9), {'model': DecisionTreeClassifier(max_depth=9), 'accuracy': 1.0}), (('gini', 11), {'model': DecisionTreeClassifier(max_depth=11), 'accuracy': 1.0}), (('gini', 13), {'model': DecisionTreeClassifier(max_depth=13), 'accuracy': 1.0}), (('gini', 15), {'model': DecisionTreeClassifier(max_depth=15), 'accuracy': 1.0}), (('gini', 17), {'model': DecisionTreeClassifier(max_depth=17), 'accuracy': 1.0}), (('gini', 19), {'model': DecisionTreeClassifier(max_depth=19), 'accuracy': 1.0}), (('entropy', 1), {'model': DecisionTreeClassifier(criterion='entropy', max_depth=1), 'accuracy': 0.7218461538461538}), (('entropy', 3), {'model': DecisionTreeClassifier(criterion='entropy', max_depth=3), 'accuracy': 0.9489230769230769}), (('entropy', 5), {'model': DecisionTreeClassifier(criterion='entropy', max_depth=5), 'accuracy': 0.9772307692307692}), (('entropy', 7), {'model': DecisionTreeClassifier(criterion='entropy', max_depth=7), 'accuracy': 1.0}), (('entropy', 9), {'model': DecisionTreeClassifier(criterion='entropy', max_depth=9), 'accuracy': 1.0}), (('entropy', 11), {'model': DecisionTreeClassifier(criterion='entropy', max_depth=11), 'accuracy': 1.0}), (('entropy', 13), {'model': DecisionTreeClassifier(criterion='entropy', max_depth=13), 'accuracy': 1.0}), (('entropy', 15), {'model': DecisionTreeClassifier(criterion='entropy', max_depth=15), 'accuracy': 1.0}), (('entropy', 17), {'model': DecisionTreeClassifier(criterion='entropy', max_depth=17), 'accuracy': 1.0}), (('entropy', 19), {'model': DecisionTreeClassifier(criterion='entropy', max_depth=19), 'accuracy': 1.0})])"
      ]
     },
     "execution_count": 31,
     "metadata": {},
     "output_type": "execute_result"
    }
   ],
   "source": [
    "results.items()"
   ]
  },
  {
   "cell_type": "markdown",
   "metadata": {
    "id": "rACTTziDlFim"
   },
   "source": [
    "## Print the results of the classification."
   ]
  },
  {
   "cell_type": "code",
   "execution_count": 32,
   "metadata": {
    "colab": {
     "base_uri": "https://localhost:8080/"
    },
    "id": "-9wg6-lTlJKN",
    "outputId": "721a9b72-c225-4208-d933-ca7fa541169f"
   },
   "outputs": [
    {
     "name": "stdout",
     "output_type": "stream",
     "text": [
      "Results of Decision Tree Classification:\n",
      "Criterion: gini, Max Depth: 1, Accuracy: 0.80\n",
      "Criterion: gini, Max Depth: 3, Accuracy: 0.95\n",
      "Criterion: gini, Max Depth: 5, Accuracy: 0.98\n",
      "Criterion: gini, Max Depth: 7, Accuracy: 1.00\n",
      "Criterion: gini, Max Depth: 9, Accuracy: 1.00\n",
      "Criterion: gini, Max Depth: 11, Accuracy: 1.00\n",
      "Criterion: gini, Max Depth: 13, Accuracy: 1.00\n",
      "Criterion: gini, Max Depth: 15, Accuracy: 1.00\n",
      "Criterion: gini, Max Depth: 17, Accuracy: 1.00\n",
      "Criterion: gini, Max Depth: 19, Accuracy: 1.00\n",
      "Criterion: entropy, Max Depth: 1, Accuracy: 0.72\n",
      "Criterion: entropy, Max Depth: 3, Accuracy: 0.95\n",
      "Criterion: entropy, Max Depth: 5, Accuracy: 0.98\n",
      "Criterion: entropy, Max Depth: 7, Accuracy: 1.00\n",
      "Criterion: entropy, Max Depth: 9, Accuracy: 1.00\n",
      "Criterion: entropy, Max Depth: 11, Accuracy: 1.00\n",
      "Criterion: entropy, Max Depth: 13, Accuracy: 1.00\n",
      "Criterion: entropy, Max Depth: 15, Accuracy: 1.00\n",
      "Criterion: entropy, Max Depth: 17, Accuracy: 1.00\n",
      "Criterion: entropy, Max Depth: 19, Accuracy: 1.00\n"
     ]
    }
   ],
   "source": [
    "# Print the results of the classification\n",
    "print(\"Results of Decision Tree Classification:\")\n",
    "for (criterion, max_depth), result in results.items():\n",
    "    print(f\"Criterion: {criterion}, Max Depth: {max_depth}, Accuracy: {result['accuracy']:.2f}\")\n"
   ]
  },
  {
   "cell_type": "markdown",
   "metadata": {
    "id": "NMWqO_XIk45I"
   },
   "source": [
    "## Visualize the prediction results"
   ]
  },
  {
   "cell_type": "code",
   "execution_count": 33,
   "metadata": {
    "colab": {
     "base_uri": "https://localhost:8080/",
     "height": 803
    },
    "id": "4U1xy14Mk7OI",
    "outputId": "f718e922-38af-4703-fe8d-c8e374613e57"
   },
   "outputs": [
    {
     "data": {
      "image/png": "[encoded data removed]",
      "text/plain": [
       "<Figure size 1000x600 with 1 Axes>"
      ]
     },
     "metadata": {},
     "output_type": "display_data"
    }
   ],
   "source": [
    "# Visualize the accuracy vs max depth for each splitting criterion\n",
    "plt.figure(figsize=(10, 6))\n",
    "for criterion in crit:\n",
    "    accuracies = [result['accuracy'] for (c, md), result in results.items() if c == criterion]\n",
    "    plt.plot(maxdepth, accuracies, marker='o', label=f'Splitting Criterion: {criterion}')\n",
    "plt.xlabel('Max Depth')\n",
    "plt.ylabel('Accuracy')\n",
    "plt.title('Accuracy vs Max Depth for Different Splitting Criteria')\n",
    "plt.legend()\n",
    "plt.grid(True)\n",
    "plt.show()"
   ]
  },
  {
   "cell_type": "code",
   "execution_count": null,
   "metadata": {},
   "outputs": [],
   "source": []
  },
  {
   "cell_type": "code",
   "execution_count": null,
   "metadata": {},
   "outputs": [],
   "source": []
  },
  {
   "cell_type": "code",
   "execution_count": null,
   "metadata": {},
   "outputs": [],
   "source": []
  }
 ],
 "metadata": {
  "colab": {
   "provenance": [],
   "toc_visible": true
  },
  "kernelspec": {
   "display_name": "Python 3 (ipykernel)",
   "language": "python",
   "name": "python3"
  },
  "language_info": {
   "codemirror_mode": {
    "name": "ipython",
    "version": 3
   },
   "file_extension": ".py",
   "mimetype": "text/x-python",
   "name": "python",
   "nbconvert_exporter": "python",
   "pygments_lexer": "ipython3",
   "version": "3.9.2"
  }
 },
 "nbformat": 4,
 "nbformat_minor": 4
}
