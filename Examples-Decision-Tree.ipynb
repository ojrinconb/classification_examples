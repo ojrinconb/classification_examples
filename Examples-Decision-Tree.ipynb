{
 "cells": [
  {
   "cell_type": "markdown",
   "metadata": {},
   "source": [
    "### Se trata de explorar con estos datos las tecnicas de clasificacion mediante un Arbol de Decision"
   ]
  },
  {
   "cell_type": "code",
   "execution_count": 4,
   "metadata": {
    "id": "HfAfh25Vj8b6"
   },
   "outputs": [],
   "source": [
    "import numpy as np\n",
    "import pandas as pd\n",
    "import matplotlib.pyplot as plt\n",
    "from sklearn.datasets import load_breast_cancer\n",
    "from sklearn.model_selection import train_test_split\n",
    "from sklearn.metrics import accuracy_score, classification_report, confusion_matrix\n",
    "from sklearn.preprocessing import LabelEncoder, StandardScaler\n",
    "# Load the Breast Cancer dataset\n"
   ]
  },
  {
   "cell_type": "markdown",
   "metadata": {},
   "source": [
    "### Select the dataset"
   ]
  },
  {
   "cell_type": "code",
   "execution_count": 5,
   "metadata": {},
   "outputs": [],
   "source": [
    "import kagglehub\n",
    "import os"
   ]
  },
  {
   "cell_type": "code",
   "execution_count": 10,
   "metadata": {},
   "outputs": [],
   "source": [
    "# To check the Kaggle Databases Guide check the page: https://www.kaggle.com/datasets \n",
    "#path = kagglehub.dataset_download(\"infamouscoder/dataset-netflix-shows\")\n",
    "path=kagglehub.dataset_download('bricevergnou/spotify-recommendation')\n",
    "#path=kagglehub.dataset_download(\"stealthtechnologies/predict-student-performance-dataset\", path='data.csv')\n",
    "#print(os.listdir(path))"
   ]
  },
  {
   "cell_type": "code",
   "execution_count": 11,
   "metadata": {},
   "outputs": [],
   "source": [
    "aux = [name for name in os.listdir(path) if \".csv\" in name][0]\n",
    "path = os.path.join(path,aux)\n",
    "data =  pd.read_csv(path)"
   ]
  },
  {
   "cell_type": "code",
   "execution_count": 12,
   "metadata": {},
   "outputs": [
    {
     "data": {
      "text/html": [
       "<div>\n",
       "<style scoped>\n",
       "    .dataframe tbody tr th:only-of-type {\n",
       "        vertical-align: middle;\n",
       "    }\n",
       "\n",
       "    .dataframe tbody tr th {\n",
       "        vertical-align: top;\n",
       "    }\n",
       "\n",
       "    .dataframe thead th {\n",
       "        text-align: right;\n",
       "    }\n",
       "</style>\n",
       "<table border=\"1\" class=\"dataframe\">\n",
       "  <thead>\n",
       "    <tr style=\"text-align: right;\">\n",
       "      <th></th>\n",
       "      <th>danceability</th>\n",
       "      <th>energy</th>\n",
       "      <th>key</th>\n",
       "      <th>loudness</th>\n",
       "      <th>mode</th>\n",
       "      <th>speechiness</th>\n",
       "      <th>acousticness</th>\n",
       "      <th>instrumentalness</th>\n",
       "      <th>liveness</th>\n",
       "      <th>valence</th>\n",
       "      <th>tempo</th>\n",
       "      <th>duration_ms</th>\n",
       "      <th>time_signature</th>\n",
       "      <th>liked</th>\n",
       "    </tr>\n",
       "  </thead>\n",
       "  <tbody>\n",
       "    <tr>\n",
       "      <th>0</th>\n",
       "      <td>0.803</td>\n",
       "      <td>0.6240</td>\n",
       "      <td>7</td>\n",
       "      <td>-6.764</td>\n",
       "      <td>0</td>\n",
       "      <td>0.0477</td>\n",
       "      <td>0.451</td>\n",
       "      <td>0.000734</td>\n",
       "      <td>0.1000</td>\n",
       "      <td>0.6280</td>\n",
       "      <td>95.968</td>\n",
       "      <td>304524</td>\n",
       "      <td>4</td>\n",
       "      <td>0</td>\n",
       "    </tr>\n",
       "    <tr>\n",
       "      <th>1</th>\n",
       "      <td>0.762</td>\n",
       "      <td>0.7030</td>\n",
       "      <td>10</td>\n",
       "      <td>-7.951</td>\n",
       "      <td>0</td>\n",
       "      <td>0.3060</td>\n",
       "      <td>0.206</td>\n",
       "      <td>0.000000</td>\n",
       "      <td>0.0912</td>\n",
       "      <td>0.5190</td>\n",
       "      <td>151.329</td>\n",
       "      <td>247178</td>\n",
       "      <td>4</td>\n",
       "      <td>1</td>\n",
       "    </tr>\n",
       "    <tr>\n",
       "      <th>2</th>\n",
       "      <td>0.261</td>\n",
       "      <td>0.0149</td>\n",
       "      <td>1</td>\n",
       "      <td>-27.528</td>\n",
       "      <td>1</td>\n",
       "      <td>0.0419</td>\n",
       "      <td>0.992</td>\n",
       "      <td>0.897000</td>\n",
       "      <td>0.1020</td>\n",
       "      <td>0.0382</td>\n",
       "      <td>75.296</td>\n",
       "      <td>286987</td>\n",
       "      <td>4</td>\n",
       "      <td>0</td>\n",
       "    </tr>\n",
       "    <tr>\n",
       "      <th>3</th>\n",
       "      <td>0.722</td>\n",
       "      <td>0.7360</td>\n",
       "      <td>3</td>\n",
       "      <td>-6.994</td>\n",
       "      <td>0</td>\n",
       "      <td>0.0585</td>\n",
       "      <td>0.431</td>\n",
       "      <td>0.000001</td>\n",
       "      <td>0.1230</td>\n",
       "      <td>0.5820</td>\n",
       "      <td>89.860</td>\n",
       "      <td>208920</td>\n",
       "      <td>4</td>\n",
       "      <td>1</td>\n",
       "    </tr>\n",
       "    <tr>\n",
       "      <th>4</th>\n",
       "      <td>0.787</td>\n",
       "      <td>0.5720</td>\n",
       "      <td>1</td>\n",
       "      <td>-7.516</td>\n",
       "      <td>1</td>\n",
       "      <td>0.2220</td>\n",
       "      <td>0.145</td>\n",
       "      <td>0.000000</td>\n",
       "      <td>0.0753</td>\n",
       "      <td>0.6470</td>\n",
       "      <td>155.117</td>\n",
       "      <td>179413</td>\n",
       "      <td>4</td>\n",
       "      <td>1</td>\n",
       "    </tr>\n",
       "  </tbody>\n",
       "</table>\n",
       "</div>"
      ],
      "text/plain": [
       "   danceability  energy  key  loudness  mode  speechiness  acousticness  \\\n",
       "0         0.803  0.6240    7    -6.764     0       0.0477         0.451   \n",
       "1         0.762  0.7030   10    -7.951     0       0.3060         0.206   \n",
       "2         0.261  0.0149    1   -27.528     1       0.0419         0.992   \n",
       "3         0.722  0.7360    3    -6.994     0       0.0585         0.431   \n",
       "4         0.787  0.5720    1    -7.516     1       0.2220         0.145   \n",
       "\n",
       "   instrumentalness  liveness  valence    tempo  duration_ms  time_signature  \\\n",
       "0          0.000734    0.1000   0.6280   95.968       304524               4   \n",
       "1          0.000000    0.0912   0.5190  151.329       247178               4   \n",
       "2          0.897000    0.1020   0.0382   75.296       286987               4   \n",
       "3          0.000001    0.1230   0.5820   89.860       208920               4   \n",
       "4          0.000000    0.0753   0.6470  155.117       179413               4   \n",
       "\n",
       "   liked  \n",
       "0      0  \n",
       "1      1  \n",
       "2      0  \n",
       "3      1  \n",
       "4      1  "
      ]
     },
     "execution_count": 12,
     "metadata": {},
     "output_type": "execute_result"
    }
   ],
   "source": [
    "data.head()"
   ]
  },
  {
   "cell_type": "code",
   "execution_count": 13,
   "metadata": {},
   "outputs": [
    {
     "name": "stdout",
     "output_type": "stream",
     "text": [
      "<class 'pandas.core.frame.DataFrame'>\n",
      "RangeIndex: 195 entries, 0 to 194\n",
      "Data columns (total 14 columns):\n",
      " #   Column            Non-Null Count  Dtype  \n",
      "---  ------            --------------  -----  \n",
      " 0   danceability      195 non-null    float64\n",
      " 1   energy            195 non-null    float64\n",
      " 2   key               195 non-null    int64  \n",
      " 3   loudness          195 non-null    float64\n",
      " 4   mode              195 non-null    int64  \n",
      " 5   speechiness       195 non-null    float64\n",
      " 6   acousticness      195 non-null    float64\n",
      " 7   instrumentalness  195 non-null    float64\n",
      " 8   liveness          195 non-null    float64\n",
      " 9   valence           195 non-null    float64\n",
      " 10  tempo             195 non-null    float64\n",
      " 11  duration_ms       195 non-null    int64  \n",
      " 12  time_signature    195 non-null    int64  \n",
      " 13  liked             195 non-null    int64  \n",
      "dtypes: float64(9), int64(5)\n",
      "memory usage: 21.5 KB\n"
     ]
    }
   ],
   "source": [
    "data.info()"
   ]
  },
  {
   "cell_type": "code",
   "execution_count": 15,
   "metadata": {},
   "outputs": [],
   "source": [
    "#bricevergnou/spotify-recommendation\n",
    "y = data['liked']  # Columna 'class' como variable objetivo\n",
    "X = data.drop('liked', axis=1)  # Eliminar la columna 'class' del resto de los datos"
   ]
  },
  {
   "cell_type": "code",
   "execution_count": 16,
   "metadata": {},
   "outputs": [],
   "source": [
    "# Representacion numerica de los valores categoricos\n",
    "#encoder = LabelEncoder()\n",
    "# Codificar todas las columnas categóricas \n",
    "#X = X.apply(encoder.fit_transform)"
   ]
  },
  {
   "cell_type": "code",
   "execution_count": 17,
   "metadata": {},
   "outputs": [
    {
     "data": {
      "text/html": [
       "<div>\n",
       "<style scoped>\n",
       "    .dataframe tbody tr th:only-of-type {\n",
       "        vertical-align: middle;\n",
       "    }\n",
       "\n",
       "    .dataframe tbody tr th {\n",
       "        vertical-align: top;\n",
       "    }\n",
       "\n",
       "    .dataframe thead th {\n",
       "        text-align: right;\n",
       "    }\n",
       "</style>\n",
       "<table border=\"1\" class=\"dataframe\">\n",
       "  <thead>\n",
       "    <tr style=\"text-align: right;\">\n",
       "      <th></th>\n",
       "      <th>danceability</th>\n",
       "      <th>energy</th>\n",
       "      <th>key</th>\n",
       "      <th>loudness</th>\n",
       "      <th>mode</th>\n",
       "      <th>speechiness</th>\n",
       "      <th>acousticness</th>\n",
       "      <th>instrumentalness</th>\n",
       "      <th>liveness</th>\n",
       "      <th>valence</th>\n",
       "      <th>tempo</th>\n",
       "      <th>duration_ms</th>\n",
       "      <th>time_signature</th>\n",
       "    </tr>\n",
       "  </thead>\n",
       "  <tbody>\n",
       "    <tr>\n",
       "      <th>0</th>\n",
       "      <td>0.803</td>\n",
       "      <td>0.6240</td>\n",
       "      <td>7</td>\n",
       "      <td>-6.764</td>\n",
       "      <td>0</td>\n",
       "      <td>0.0477</td>\n",
       "      <td>0.451</td>\n",
       "      <td>0.000734</td>\n",
       "      <td>0.1000</td>\n",
       "      <td>0.6280</td>\n",
       "      <td>95.968</td>\n",
       "      <td>304524</td>\n",
       "      <td>4</td>\n",
       "    </tr>\n",
       "    <tr>\n",
       "      <th>1</th>\n",
       "      <td>0.762</td>\n",
       "      <td>0.7030</td>\n",
       "      <td>10</td>\n",
       "      <td>-7.951</td>\n",
       "      <td>0</td>\n",
       "      <td>0.3060</td>\n",
       "      <td>0.206</td>\n",
       "      <td>0.000000</td>\n",
       "      <td>0.0912</td>\n",
       "      <td>0.5190</td>\n",
       "      <td>151.329</td>\n",
       "      <td>247178</td>\n",
       "      <td>4</td>\n",
       "    </tr>\n",
       "    <tr>\n",
       "      <th>2</th>\n",
       "      <td>0.261</td>\n",
       "      <td>0.0149</td>\n",
       "      <td>1</td>\n",
       "      <td>-27.528</td>\n",
       "      <td>1</td>\n",
       "      <td>0.0419</td>\n",
       "      <td>0.992</td>\n",
       "      <td>0.897000</td>\n",
       "      <td>0.1020</td>\n",
       "      <td>0.0382</td>\n",
       "      <td>75.296</td>\n",
       "      <td>286987</td>\n",
       "      <td>4</td>\n",
       "    </tr>\n",
       "    <tr>\n",
       "      <th>3</th>\n",
       "      <td>0.722</td>\n",
       "      <td>0.7360</td>\n",
       "      <td>3</td>\n",
       "      <td>-6.994</td>\n",
       "      <td>0</td>\n",
       "      <td>0.0585</td>\n",
       "      <td>0.431</td>\n",
       "      <td>0.000001</td>\n",
       "      <td>0.1230</td>\n",
       "      <td>0.5820</td>\n",
       "      <td>89.860</td>\n",
       "      <td>208920</td>\n",
       "      <td>4</td>\n",
       "    </tr>\n",
       "    <tr>\n",
       "      <th>4</th>\n",
       "      <td>0.787</td>\n",
       "      <td>0.5720</td>\n",
       "      <td>1</td>\n",
       "      <td>-7.516</td>\n",
       "      <td>1</td>\n",
       "      <td>0.2220</td>\n",
       "      <td>0.145</td>\n",
       "      <td>0.000000</td>\n",
       "      <td>0.0753</td>\n",
       "      <td>0.6470</td>\n",
       "      <td>155.117</td>\n",
       "      <td>179413</td>\n",
       "      <td>4</td>\n",
       "    </tr>\n",
       "  </tbody>\n",
       "</table>\n",
       "</div>"
      ],
      "text/plain": [
       "   danceability  energy  key  loudness  mode  speechiness  acousticness  \\\n",
       "0         0.803  0.6240    7    -6.764     0       0.0477         0.451   \n",
       "1         0.762  0.7030   10    -7.951     0       0.3060         0.206   \n",
       "2         0.261  0.0149    1   -27.528     1       0.0419         0.992   \n",
       "3         0.722  0.7360    3    -6.994     0       0.0585         0.431   \n",
       "4         0.787  0.5720    1    -7.516     1       0.2220         0.145   \n",
       "\n",
       "   instrumentalness  liveness  valence    tempo  duration_ms  time_signature  \n",
       "0          0.000734    0.1000   0.6280   95.968       304524               4  \n",
       "1          0.000000    0.0912   0.5190  151.329       247178               4  \n",
       "2          0.897000    0.1020   0.0382   75.296       286987               4  \n",
       "3          0.000001    0.1230   0.5820   89.860       208920               4  \n",
       "4          0.000000    0.0753   0.6470  155.117       179413               4  "
      ]
     },
     "execution_count": 17,
     "metadata": {},
     "output_type": "execute_result"
    }
   ],
   "source": [
    "X.head()"
   ]
  },
  {
   "cell_type": "markdown",
   "metadata": {
    "id": "v1SbIbq0kQrQ"
   },
   "source": [
    "## Split the dataset into training and testing sets."
   ]
  },
  {
   "cell_type": "code",
   "execution_count": 19,
   "metadata": {
    "id": "XmHqRa6GkRuA"
   },
   "outputs": [],
   "source": [
    "# Split the dataset into training and testing sets (80% train, 20% test)\n",
    "X_train, X_test, y_train, y_test = train_test_split(X, y, test_size=0.2, random_state=42)"
   ]
  },
  {
   "cell_type": "markdown",
   "metadata": {
    "id": "F7yzh_NFkVkw"
   },
   "source": [
    "## Create and train the Decision Tree model."
   ]
  },
  {
   "cell_type": "code",
   "execution_count": 23,
   "metadata": {
    "id": "AxXEAWb6kYcv"
   },
   "outputs": [
    {
     "name": "stdout",
     "output_type": "stream",
     "text": [
      "criterion  gini\n",
      "max_depth  1\n",
      "max_depth  3\n",
      "max_depth  5\n",
      "max_depth  7\n",
      "max_depth  9\n",
      "max_depth  11\n",
      "max_depth  13\n",
      "max_depth  15\n",
      "max_depth  17\n",
      "max_depth  19\n",
      "max_depth  21\n",
      "max_depth  23\n",
      "max_depth  25\n",
      "max_depth  27\n",
      "max_depth  29\n",
      "criterion  entropy\n",
      "max_depth  1\n",
      "max_depth  3\n",
      "max_depth  5\n",
      "max_depth  7\n",
      "max_depth  9\n",
      "max_depth  11\n",
      "max_depth  13\n",
      "max_depth  15\n",
      "max_depth  17\n",
      "max_depth  19\n",
      "max_depth  21\n",
      "max_depth  23\n",
      "max_depth  25\n",
      "max_depth  27\n",
      "max_depth  29\n"
     ]
    }
   ],
   "source": [
    "from sklearn.tree import DecisionTreeClassifier\n",
    "\n",
    "# Create a list of k values for KNN\n",
    "crit = [\"gini\", \"entropy\"]#, \"log_loss\"]\n",
    "maxdepth = range(1,30,2)\n",
    "results = {}\n",
    "\n",
    "for criterion in crit:\n",
    "    print(\"criterion \", criterion)\n",
    "    for max_depth in maxdepth:\n",
    "        print(\"max_depth \",max_depth)\n",
    "        classifier = DecisionTreeClassifier(criterion=criterion, max_depth=max_depth)\n",
    "        classifier.fit(X_train, y_train)\n",
    "        y_pred = classifier.predict(X_test)\n",
    "        accuracy = accuracy_score(y_test, y_pred)\n",
    "        results[(criterion, max_depth)] = {\n",
    "            'model': classifier,\n",
    "            'accuracy': accuracy,\n",
    "        }\n"
   ]
  },
  {
   "cell_type": "markdown",
   "metadata": {
    "id": "rACTTziDlFim"
   },
   "source": [
    "## Print the results of the classification."
   ]
  },
  {
   "cell_type": "code",
   "execution_count": 24,
   "metadata": {
    "colab": {
     "base_uri": "https://localhost:8080/"
    },
    "id": "-9wg6-lTlJKN",
    "outputId": "721a9b72-c225-4208-d933-ca7fa541169f"
   },
   "outputs": [
    {
     "name": "stdout",
     "output_type": "stream",
     "text": [
      "Results of Decision Tree Classification:\n",
      "Criterion: gini, Max Depth: 1, Accuracy: 0.82\n",
      "Criterion: gini, Max Depth: 3, Accuracy: 0.87\n",
      "Criterion: gini, Max Depth: 5, Accuracy: 0.87\n",
      "Criterion: gini, Max Depth: 7, Accuracy: 0.87\n",
      "Criterion: gini, Max Depth: 9, Accuracy: 0.87\n",
      "Criterion: gini, Max Depth: 11, Accuracy: 0.90\n",
      "Criterion: gini, Max Depth: 13, Accuracy: 0.85\n",
      "Criterion: gini, Max Depth: 15, Accuracy: 0.85\n",
      "Criterion: gini, Max Depth: 17, Accuracy: 0.87\n",
      "Criterion: gini, Max Depth: 19, Accuracy: 0.87\n",
      "Criterion: gini, Max Depth: 21, Accuracy: 0.87\n",
      "Criterion: gini, Max Depth: 23, Accuracy: 0.87\n",
      "Criterion: gini, Max Depth: 25, Accuracy: 0.85\n",
      "Criterion: gini, Max Depth: 27, Accuracy: 0.85\n",
      "Criterion: gini, Max Depth: 29, Accuracy: 0.90\n",
      "Criterion: entropy, Max Depth: 1, Accuracy: 0.82\n",
      "Criterion: entropy, Max Depth: 3, Accuracy: 0.85\n",
      "Criterion: entropy, Max Depth: 5, Accuracy: 0.82\n",
      "Criterion: entropy, Max Depth: 7, Accuracy: 0.82\n",
      "Criterion: entropy, Max Depth: 9, Accuracy: 0.82\n",
      "Criterion: entropy, Max Depth: 11, Accuracy: 0.85\n",
      "Criterion: entropy, Max Depth: 13, Accuracy: 0.85\n",
      "Criterion: entropy, Max Depth: 15, Accuracy: 0.79\n",
      "Criterion: entropy, Max Depth: 17, Accuracy: 0.79\n",
      "Criterion: entropy, Max Depth: 19, Accuracy: 0.85\n",
      "Criterion: entropy, Max Depth: 21, Accuracy: 0.82\n",
      "Criterion: entropy, Max Depth: 23, Accuracy: 0.82\n",
      "Criterion: entropy, Max Depth: 25, Accuracy: 0.79\n",
      "Criterion: entropy, Max Depth: 27, Accuracy: 0.79\n",
      "Criterion: entropy, Max Depth: 29, Accuracy: 0.82\n"
     ]
    }
   ],
   "source": [
    "# Print the results of the classification\n",
    "print(\"Results of Decision Tree Classification:\")\n",
    "for (criterion, max_depth), result in results.items():\n",
    "    print(f\"Criterion: {criterion}, Max Depth: {max_depth}, Accuracy: {result['accuracy']:.2f}\")\n"
   ]
  },
  {
   "cell_type": "markdown",
   "metadata": {
    "id": "NMWqO_XIk45I"
   },
   "source": [
    "## Visualize the prediction results"
   ]
  },
  {
   "cell_type": "code",
   "execution_count": 25,
   "metadata": {
    "colab": {
     "base_uri": "https://localhost:8080/",
     "height": 803
    },
    "id": "4U1xy14Mk7OI",
    "outputId": "f718e922-38af-4703-fe8d-c8e374613e57"
   },
   "outputs": [
    {
     "data": {
      "image/png": "[encoded data removed]",
      "text/plain": [
       "<Figure size 1000x600 with 1 Axes>"
      ]
     },
     "metadata": {},
     "output_type": "display_data"
    }
   ],
   "source": [
    "# Visualize the accuracy vs max depth for each splitting criterion\n",
    "plt.figure(figsize=(10, 6))\n",
    "for criterion in crit:\n",
    "    accuracies = [result['accuracy'] for (c, md), result in results.items() if c == criterion]\n",
    "    plt.plot(maxdepth, accuracies, marker='o', label=f'Splitting Criterion: {criterion}')\n",
    "plt.xlabel('Max Depth')\n",
    "plt.ylabel('Accuracy')\n",
    "plt.title('Accuracy vs Max Depth for Different Splitting Criteria')\n",
    "plt.legend()\n",
    "plt.grid(True)\n",
    "plt.show()"
   ]
  },
  {
   "cell_type": "code",
   "execution_count": null,
   "metadata": {},
   "outputs": [],
   "source": []
  },
  {
   "cell_type": "code",
   "execution_count": null,
   "metadata": {},
   "outputs": [],
   "source": []
  }
 ],
 "metadata": {
  "colab": {
   "provenance": [],
   "toc_visible": true
  },
  "kernelspec": {
   "display_name": "Python 3 (ipykernel)",
   "language": "python",
   "name": "python3"
  },
  "language_info": {
   "codemirror_mode": {
    "name": "ipython",
    "version": 3
   },
   "file_extension": ".py",
   "mimetype": "text/x-python",
   "name": "python",
   "nbconvert_exporter": "python",
   "pygments_lexer": "ipython3",
   "version": "3.9.2"
  }
 },
 "nbformat": 4,
 "nbformat_minor": 4
}
